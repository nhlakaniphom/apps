{
  "nbformat": 4,
  "nbformat_minor": 0,
  "metadata": {
    "colab": {
      "name": "Week1 Assignment.ipynb",
      "version": "0.3.2",
      "provenance": [],
      "include_colab_link": true
    },
    "kernelspec": {
      "name": "python3",
      "display_name": "Python 3"
    }
  },
  "cells": [
    {
      "cell_type": "markdown",
      "metadata": {
        "id": "view-in-github",
        "colab_type": "text"
      },
      "source": [
        "[View in Colaboratory](https://colab.research.google.com/github/nhlakaniphom/apps/blob/master/Day%201/Week1_Assignment.ipynb)"
      ]
    },
    {
      "metadata": {
        "id": "qMYiTBCfANl6",
        "colab_type": "text"
      },
      "cell_type": "markdown",
      "source": [
        "# Assignment 1:\n"
      ]
    },
    {
      "metadata": {
        "id": "GdYVcxUp4STS",
        "colab_type": "text"
      },
      "cell_type": "markdown",
      "source": [
        "**Question 1:**\n",
        "\n",
        "Write a program that tells you the following:\n",
        "* Hours in a year. How many hours are in a year?\n",
        "* Minutes in a decade. How many minutes are in a decade?\n",
        "* Your age in seconds. How many seconds old are you? (I'm not going to check your answer, so be as accurate—or not—as you want.)\n",
        "* Abuobayda Shabat: Im 946708560 second old. Can you guess my age (year)?"
      ]
    },
    {
      "metadata": {
        "id": "S3PWywnP4Iac",
        "colab_type": "code",
        "colab": {
          "base_uri": "https://localhost:8080/",
          "height": 85
        },
        "outputId": "4112f060-fbc6-40e8-952a-56597d334b46"
      },
      "cell_type": "code",
      "source": [
        "#Write your code here\n",
        "def program_one(age):\n",
        "  hours = 365 * 24\n",
        "  minutes = (hours * 60) * 10\n",
        "  seconds = age * hours * 60 * 60\n",
        "  print(\"Hours in a year: \", int(hours))\n",
        "  print(\"Minutes in a decade: \", int(minutes))\n",
        "  print(\"Your age in seconds: \", int(seconds))\n",
        "  print(\"Abuobayda Shabat Age:\", int((((946708560 / 60) /60) / 24) / 365))\n",
        "program_one(21)\n",
        "       "
      ],
      "execution_count": 4,
      "outputs": [
        {
          "output_type": "stream",
          "text": [
            "Hours in a year:  8760\n",
            "Minutes in a decade:  5256000\n",
            "Your age in seconds:  662256000\n",
            "Abuobayda Shabat Age: 30\n"
          ],
          "name": "stdout"
        }
      ]
    },
    {
      "metadata": {
        "id": "zhBcl6Ud6lPy",
        "colab_type": "text"
      },
      "cell_type": "markdown",
      "source": [
        "**Question 2:**\n",
        "\n",
        "Write a program that asks for a person’s first name, then middle, and then last. Finally, it should greet the person using their full name."
      ]
    },
    {
      "metadata": {
        "id": "Leix0qfQ68Lz",
        "colab_type": "code",
        "colab": {
          "base_uri": "https://localhost:8080/",
          "height": 85
        },
        "outputId": "6539e03d-89fb-4628-89ef-ef4c0740f3de"
      },
      "cell_type": "code",
      "source": [
        "#Write your code here\n",
        "def greet():\n",
        "  first = input(\"Enter first name: \")\n",
        "  middle = input(\"Enter middle name: \")\n",
        "  last = input(\"Enter last name: \")\n",
        "  print(\"Hello,\", first, middle, last)\n",
        "  \n",
        "greet()\n"
      ],
      "execution_count": 139,
      "outputs": [
        {
          "output_type": "stream",
          "text": [
            "Enter first name: Nhlakanipho\n",
            "Enter middle name: Michael\n",
            "Enter last name: Mqadi\n",
            "Hello, Nhlakanipho Michael Mqadi\n"
          ],
          "name": "stdout"
        }
      ]
    },
    {
      "metadata": {
        "id": "wORLjL0d7Okr",
        "colab_type": "text"
      },
      "cell_type": "markdown",
      "source": [
        "**Question 3**:\n",
        "\n",
        "Write an angry boss program that rudely asks what you want. Whatever you answer, the angry boss should yell it back to you and then fire you. For example, if you type in I want a raise, it should yell back like this:\n",
        "\n",
        "WHADDAYA MEAN \"I WANT A RAISE\"?!? YOU'RE FIRED!!"
      ]
    },
    {
      "metadata": {
        "id": "WAaXImxb7Nob",
        "colab_type": "code",
        "colab": {
          "base_uri": "https://localhost:8080/",
          "height": 51
        },
        "outputId": "b747da60-8431-4e5f-dcd1-f527dd2ec40c"
      },
      "cell_type": "code",
      "source": [
        "#Write your code here\n",
        "def angry_boss():\n",
        "  msg = input(\"What do you want? \")\n",
        "  print(\"WHADDAYA MEAN\", str('\"'+ msg+ '\"').upper(),\"?!? YOU'RE FIRED!!\")\n",
        "  \n",
        "angry_boss()\n",
        "\n",
        " "
      ],
      "execution_count": 16,
      "outputs": [
        {
          "output_type": "stream",
          "text": [
            "What do you want? I want a raise\n",
            "WHADDAYA MEAN \"I WANT A RAISE\" ?!? YOU'RE FIRED!!\n"
          ],
          "name": "stdout"
        }
      ]
    },
    {
      "metadata": {
        "id": "mCBNLR8G7yd6",
        "colab_type": "text"
      },
      "cell_type": "markdown",
      "source": [
        "**Question 4:**\n",
        "\n",
        "* Write a Deaf grandma program. Whatever you say to Grandma (whatever you type in), she should respond with this: \n",
        "\n",
        "**HUH?! SPEAK UP, Boy!**\n",
        "\n",
        "unless you shout it (type in all capitals). If you shout, she can hear you (or at least she thinks so) and yells back:\n",
        "\n",
        "**NO, NOT SINCE 1938!**\n",
        "\n",
        "To make your program really believable, have Grandma shout a different year each time, maybe any year at random between 1930 and 1950.\n",
        "\n",
        "(This part is optional and would be much easier if you read the section on Python’s random number generator under the Math Object.) You can’t stop talking to Grandma until you shout BYE.\n",
        "\n",
        "* Hint: Try to think about what parts of your program should happen over and over again. All of those should be in your while loop.\n"
      ]
    },
    {
      "metadata": {
        "id": "0Ago9Ox99Ctk",
        "colab_type": "code",
        "colab": {
          "base_uri": "https://localhost:8080/",
          "height": 204
        },
        "outputId": "01e63162-3ab4-4d31-db82-3f2f83d46b3c"
      },
      "cell_type": "code",
      "source": [
        "#Write your code here\n",
        "import random\n",
        "\n",
        "def grandma():\n",
        "  print(\"Program started....\")\n",
        "  speak = input(\"say something: \")\n",
        "  \n",
        "  while(str(speak) != \"BYE\"):\n",
        "    loud = True if (speak == str(speak).upper()) else False\n",
        "    year = random.randint(1930,1950)\n",
        "    if(loud):\n",
        "      print(\"NO, NOT SINCE \"+ str(year) +\"!\")\n",
        "      speak = input(\"say something else: \")\n",
        "    else:\n",
        "      print(\"HUH?! SPEAK UP, Boy!\")\n",
        "      speak = input(\"say that again: \")\n",
        "  print(\"Program ended!!!\")\n",
        "  \n",
        "grandma()\n"
      ],
      "execution_count": 144,
      "outputs": [
        {
          "output_type": "stream",
          "text": [
            "Program started....\n",
            "say something: Hello\n",
            "HUH?! SPEAK UP, Boy!\n",
            "say that again: HELLO\n",
            "NO, NOT SINCE 1949!\n",
            "say something else: WHAT ELSE\n",
            "NO, NOT SINCE 1946!\n",
            "say something else: OK, AND THEN\n",
            "NO, NOT SINCE 1930!\n",
            "say something else: BYE\n",
            "Program ended!!!\n"
          ],
          "name": "stdout"
        }
      ]
    },
    {
      "metadata": {
        "id": "uvv2FGaY9y_C",
        "colab_type": "text"
      },
      "cell_type": "markdown",
      "source": [
        "**Question 5:**\n",
        "\n",
        "What if Grandma doesn’t want you to leave? When you shout BYE, she could pretend not to hear you. Change your previous program so that you have to shout BYE three times in a row. \n",
        "\n",
        "Make sure to test your program: if you shout BYE three times but not in a row, you should still be talking to Grandma."
      ]
    },
    {
      "metadata": {
        "id": "Wyl05QMR9-Oc",
        "colab_type": "code",
        "colab": {
          "base_uri": "https://localhost:8080/",
          "height": 255
        },
        "outputId": "c4bae064-104e-49ea-ae8f-46e4f3efcb1e"
      },
      "cell_type": "code",
      "source": [
        "#Write your code here\n",
        "import random\n",
        "\n",
        "def grand_ma():\n",
        "  print(\"Program started....\")\n",
        "  speak = input(\"say something: \")\n",
        "  bye = 0\n",
        "\n",
        "  while(int(bye) < 3):\n",
        "    loud = True if (speak == str(speak).upper()) else False\n",
        "    year = random.randint(1930,1950)\n",
        "    if(loud):\n",
        "      if(str(speak).upper() == \"BYE\"):\n",
        "        bye += 1 \n",
        "        print(str(\"What did you just say!!?\").upper())\n",
        "        speak = input(\"What did you just say?: \") if (bye < 3) else \"don't prompt\"\n",
        "      else:\n",
        "        print(\"NO, NOT SINCE \"+ str(year) +\"!\")\n",
        "        speak = input(\"say something else: \")\n",
        "    else:\n",
        "      print(\"HUH?! SPEAK UP, Boy!\")\n",
        "      speak = input(\"say that again: \")\n",
        "  print(\"Program ended!!!\")\n",
        "  \n",
        "grand_ma()\n"
      ],
      "execution_count": 145,
      "outputs": [
        {
          "output_type": "stream",
          "text": [
            "Program started....\n",
            "say something: Hello\n",
            "HUH?! SPEAK UP, Boy!\n",
            "say that again: HELLO\n",
            "NO, NOT SINCE 1939!\n",
            "say something else: TELL ME MORE\n",
            "NO, NOT SINCE 1930!\n",
            "say something else: BYE\n",
            "WHAT DID YOU JUST SAY!!?\n",
            "What did you just say?: BYE\n",
            "WHAT DID YOU JUST SAY!!?\n",
            "What did you just say?: BYE\n",
            "WHAT DID YOU JUST SAY!!?\n",
            "Program ended!!!\n"
          ],
          "name": "stdout"
        }
      ]
    },
    {
      "metadata": {
        "id": "IbvSV_dXpp7B",
        "colab_type": "code",
        "colab": {}
      },
      "cell_type": "code",
      "source": [
        ""
      ],
      "execution_count": 0,
      "outputs": []
    },
    {
      "metadata": {
        "id": "3R0bEN71-akU",
        "colab_type": "text"
      },
      "cell_type": "markdown",
      "source": [
        "**Question 6:**\n",
        "\n",
        "Write a program that when passed an integer between 1 and 3000 (or so) returns a string containing the proper old-school Roman numeral. \n",
        "\n",
        "In other words, old_roman_numeral (4) should return 'IIII'. Make sure to test your method on a bunch of different numbers.\n",
        "\n",
        "Hint: Use the integer division and modulus methods.\n",
        "\n",
        "For reference, these are the values of the letters used: \n",
        "\n",
        "I= 1    V = 5   X = 10   L = 50 C = 100    D = 500   M = 1000\n",
        "\n",
        "[Roman Number](https://en.wikipedia.org/wiki/Roman_numerals)"
      ]
    },
    {
      "metadata": {
        "id": "fQs-LHEy-A92",
        "colab_type": "code",
        "colab": {
          "base_uri": "https://localhost:8080/",
          "height": 34
        },
        "outputId": "56becebb-df7f-4281-a88b-e47c0631b9a0"
      },
      "cell_type": "code",
      "source": [
        "#Write your code here\n",
        "def old_roman_numeral(n):  \n",
        "    m = n // 1000\n",
        "    d = (n - (1000 * m)) // 500\n",
        "    c = (n - (1000 * m) - ( 500 * d)) // 100\n",
        "    l = (n - (1000 * m) - ( 500 * d) - (100 * c)) // 50\n",
        "    xl = (n - (1000 * m) - (500 * d) - (100 * c) - (50 * l)) // 40\n",
        "    x = (n - (1000 * m) - ( 500 * d) - (100 * c) - ( 50 * l) -(40 * xl)) // 10    \n",
        "    o = quick_check((n - (1000 * m) - ( 500 * d) - (100 * c) - ( 50 * l) - (40 * xl) - (10 * x)))\n",
        "    print(\"M\" * m + \"D\" * d + \"C\" * c + \"L\" * l + \"XL\" * xl + \"X\" * x + o)\n",
        "\n",
        "def quick_check(n):\n",
        "  d = len(str(n))\n",
        "  if (d == 1):\n",
        "    i = int(n / d)\n",
        "    if(n < 4):\n",
        "      return (\"I\" * i)\n",
        "    elif(n == 4):\n",
        "      return (\"IV\")\n",
        "    elif(n == 5):\n",
        "      return (\"V\")\n",
        "    else:\n",
        "      return (\"V\" + \"I\" * (i - 5))\n",
        "old_roman_numeral(160)  "
      ],
      "execution_count": 136,
      "outputs": [
        {
          "output_type": "stream",
          "text": [
            "CLX\n"
          ],
          "name": "stdout"
        }
      ]
    },
    {
      "metadata": {
        "id": "8uE400tZ_mhj",
        "colab_type": "text"
      },
      "cell_type": "markdown",
      "source": [
        "**Question 7:**\n",
        "\n",
        "Leap years are years divisible by 4 (like 1984 and 2004). However, years divisible by 100 are not leap years (such as 1800 and 1900) unless they are also divisible by 400 (such as 1600 and 2000, which were in fact leap years). \n",
        "\n",
        "Write a program that asks for a starting year and an ending year and then puts all the leap years between them (and including them, if they are also leap years)"
      ]
    },
    {
      "metadata": {
        "id": "2k8oIkNwAGZd",
        "colab_type": "code",
        "colab": {
          "base_uri": "https://localhost:8080/",
          "height": 102
        },
        "outputId": "91e00a9b-dfbf-4323-ce3b-38634d9a9ab9"
      },
      "cell_type": "code",
      "source": [
        "#Write your code here\n",
        "def leap(start, end):\n",
        "  for i in range(start, end+1):    \n",
        "    if(str(i).endswith(\"00\")):\n",
        "      if(i % 400 == 0):\n",
        "        print(i)\n",
        "    elif(i % 4 == 0):\n",
        "       print(i)\n",
        "    \n",
        "leap(2000, 2018)"
      ],
      "execution_count": 132,
      "outputs": [
        {
          "output_type": "stream",
          "text": [
            "2000\n",
            "2004\n",
            "2008\n",
            "2012\n",
            "2016\n"
          ],
          "name": "stdout"
        }
      ]
    }
  ]
}