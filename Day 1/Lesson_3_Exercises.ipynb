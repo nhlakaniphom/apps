{
  "nbformat": 4,
  "nbformat_minor": 0,
  "metadata": {
    "colab": {
      "name": "Lesson 3 Exercises.ipynb",
      "version": "0.3.2",
      "provenance": [],
      "include_colab_link": true
    },
    "kernelspec": {
      "display_name": "Python 3",
      "language": "python",
      "name": "python3"
    }
  },
  "cells": [
    {
      "cell_type": "markdown",
      "metadata": {
        "id": "view-in-github",
        "colab_type": "text"
      },
      "source": [
        "[View in Colaboratory](https://colab.research.google.com/github/nhlakaniphom/apps/blob/master/Day%201/Lesson_3_Exercises.ipynb)"
      ]
    },
    {
      "metadata": {
        "id": "o1jtO3U4B01v",
        "colab_type": "text"
      },
      "cell_type": "markdown",
      "source": [
        "# Exercises"
      ]
    },
    {
      "metadata": {
        "id": "i5XaVvHXB01w",
        "colab_type": "text"
      },
      "cell_type": "markdown",
      "source": [
        "## 1.\n",
        "\n",
        "Many programming languages have [sign](https://en.wikipedia.org/wiki/Sign_function) available as a built-in function. Python doesn't, but we can define our own!\n",
        "\n",
        "In the cell below, define a function called `sign` which takes a numerical argument and returns -1 if it's negative, 1 if it's positive, and 0 if it's 0."
      ]
    },
    {
      "metadata": {
        "id": "9MnyfOoAB01x",
        "colab_type": "code",
        "colab": {
          "base_uri": "https://localhost:8080/",
          "height": 34
        },
        "outputId": "0b0d2c3e-fba6-488e-cdc6-e33d74a203d9"
      },
      "cell_type": "code",
      "source": [
        "# Your code goes here. Define a function called 'sign'\n",
        "\n",
        "def sign(x):\n",
        "  if x < 0:\n",
        "    return -1\n",
        "  elif x > 0:\n",
        "    return 1\n",
        "  else:\n",
        "    return 0\n",
        "  \n",
        "print(sign(200))"
      ],
      "execution_count": 10,
      "outputs": [
        {
          "output_type": "stream",
          "text": [
            "1\n"
          ],
          "name": "stdout"
        }
      ]
    },
    {
      "metadata": {
        "id": "JWo8MQFnB015",
        "colab_type": "text"
      },
      "cell_type": "markdown",
      "source": [
        "## 2.\n",
        "\n",
        "We've decided to add some simple logging to our `to_smash` function from the previous exercise"
      ]
    },
    {
      "metadata": {
        "id": "pcAV_tB6B017",
        "colab_type": "code",
        "colab": {
          "base_uri": "https://localhost:8080/",
          "height": 51
        },
        "outputId": "8bbbda5b-b171-496d-e3f6-a1829a3d8530"
      },
      "cell_type": "code",
      "source": [
        "def to_smash(total_candies):\n",
        "    \"\"\"Return the number of leftover candies that must be smashed after distributing\n",
        "    the given number of candies evenly between 3 friends.\n",
        "    \n",
        "    >>> to_smash(91)\n",
        "    1\n",
        "    \"\"\"\n",
        "    print(\"Splitting\", total_candies, \"candies\")\n",
        "    return total_candies % 3\n",
        "\n",
        "to_smash(91)"
      ],
      "execution_count": 0,
      "outputs": [
        {
          "output_type": "stream",
          "text": [
            "Splitting 91 candies\n"
          ],
          "name": "stdout"
        },
        {
          "output_type": "execute_result",
          "data": {
            "text/plain": [
              "1"
            ]
          },
          "metadata": {
            "tags": []
          },
          "execution_count": 1
        }
      ]
    },
    {
      "metadata": {
        "id": "BigUDduKB01_",
        "colab_type": "text"
      },
      "cell_type": "markdown",
      "source": [
        "But wait, what happens if we call it with `total_candies = 1`?"
      ]
    },
    {
      "metadata": {
        "id": "XbVgNFp5B02A",
        "colab_type": "code",
        "colab": {
          "base_uri": "https://localhost:8080/",
          "height": 51
        },
        "outputId": "86b1081f-c6b0-41fe-c89a-b0b048124551"
      },
      "cell_type": "code",
      "source": [
        "to_smash(1)"
      ],
      "execution_count": 0,
      "outputs": [
        {
          "output_type": "stream",
          "text": [
            "Splitting 1 candies\n"
          ],
          "name": "stdout"
        },
        {
          "output_type": "execute_result",
          "data": {
            "text/plain": [
              "1"
            ]
          },
          "metadata": {
            "tags": []
          },
          "execution_count": 2
        }
      ]
    },
    {
      "metadata": {
        "id": "DzYwQ3FHB02F",
        "colab_type": "text"
      },
      "cell_type": "markdown",
      "source": [
        "How embarrassing!\n",
        "\n",
        "Modify the definition in the cell below to correct the grammar of our print statement. (If there's only one candy, we should use the singular \"candy\" instead of the plural \"candies\")\n",
        "\n",
        "**Bonus**: <span title=\"A bit spicy\" style=\"color: darkgreen \">🌶️</span> Can you fix the function without increasing the number of lines of code?"
      ]
    },
    {
      "metadata": {
        "id": "AcEdrLbgB02G",
        "colab_type": "code",
        "colab": {
          "base_uri": "https://localhost:8080/",
          "height": 68
        },
        "outputId": "95872bcb-b6bd-4c8e-8394-2e6dc4667120"
      },
      "cell_type": "code",
      "source": [
        "def to_smash(total_candies):\n",
        "    \"\"\"Return the number of leftover candies that must be smashed after distributing\n",
        "    the given number of candies evenly between 3 friends.\n",
        "    \n",
        "    >>> to_smash(91)\n",
        "    1\n",
        "    \"\"\"\n",
        "   # candy = 'candies' if total_candies > 1 else 'candy'\n",
        "    print(\"Splitting\", total_candies, 'candies' if total_candies > 1 else 'candy')\n",
        "    return total_candies % 3\n",
        "\n",
        "to_smash(91)\n",
        "to_smash(1)"
      ],
      "execution_count": 11,
      "outputs": [
        {
          "output_type": "stream",
          "text": [
            "Splitting 91 candies\n",
            "Splitting 1 candy\n"
          ],
          "name": "stdout"
        },
        {
          "output_type": "execute_result",
          "data": {
            "text/plain": [
              "1"
            ]
          },
          "metadata": {
            "tags": []
          },
          "execution_count": 11
        }
      ]
    },
    {
      "metadata": {
        "id": "nbWrjttfB02R",
        "colab_type": "text"
      },
      "cell_type": "markdown",
      "source": [
        "## 3. <span title=\"A bit spicy\" style=\"color: darkgreen \">🌶️</span>\n",
        "\n",
        "In the main lesson we talked about deciding whether we're prepared for the weather. I said that I'm safe from today's weather if...\n",
        "- I have an umbrella...\n",
        "- or if the rain isn't too heavy and I have a hood...\n",
        "- otherwise, I'm still fine unless it's raining *and* it's a workday\n",
        "\n",
        "The function below uses our first attempt at turning this logic into a Python expression. I claimed that there was a bug in that code. Can you find it?\n",
        "\n",
        "To prove that `prepared_for_weather` is buggy, come up with a set of inputs where it returns the wrong answer."
      ]
    },
    {
      "metadata": {
        "id": "CppLp0UpB02R",
        "colab_type": "code",
        "colab": {
          "base_uri": "https://localhost:8080/",
          "height": 35
        },
        "outputId": "1f6ae7d0-b805-44b9-8e22-b7292735950b"
      },
      "cell_type": "code",
      "source": [
        "# def prepared_for_weather(have_umbrella, rain_level, have_hood, is_workday):\n",
        "#     # Don't change this code. Our goal is just to find the bug, not fix it!\n",
        "#     return (have_umbrella or (rain_level < 5 and have_hood)) or not (rain_level > 0 and is_workday)\n",
        "  \n",
        "def prepared_for_weather(have_umbrella, rain_level, have_hood, is_workday):\n",
        "    # Don't change this code. Our goal is just to find the bug, not fix it!\n",
        "    return have_umbrella or rain_level < 5 and have_hood or not rain_level > 0 and is_workday\n",
        "\n",
        "# Change the values of these inputs so they represent a case where prepared_for_weather\n",
        "# returns the wrong answer.\n",
        "have_umbrella = False\n",
        "rain_level = 0.0\n",
        "have_hood = False\n",
        "is_workday = False\n",
        "\n",
        "# Check what the function returns given the current values of the variables above\n",
        "actual = prepared_for_weather(have_umbrella, rain_level, have_hood, is_workday)\n",
        "print(actual)\n",
        "\n",
        "# q3.check()"
      ],
      "execution_count": 36,
      "outputs": [
        {
          "output_type": "stream",
          "text": [
            "False\n"
          ],
          "name": "stdout"
        }
      ]
    },
    {
      "metadata": {
        "id": "7KNoPg-2B02f",
        "colab_type": "text"
      },
      "cell_type": "markdown",
      "source": [
        "## 4.\n",
        "\n",
        "The function `is_negative` below is implemented correctly - it returns True if the given number is negative and False otherwise.\n",
        "\n",
        "However, it's more verbose than it needs to be. We can actually reduce the number of lines of code in this function by *75%* while keeping the same behaviour. \n",
        "\n",
        "See if you can come up with an equivalent body that uses just **one line** of code, and put it in the function `concise_is_negative`. (HINT: you don't even need Python's ternary syntax)"
      ]
    },
    {
      "metadata": {
        "id": "ZqtS0P5BB02f",
        "colab_type": "code",
        "colab": {
          "base_uri": "https://localhost:8080/",
          "height": 35
        },
        "outputId": "d01a21f6-d5dd-4c4f-bd50-1e257b664c88"
      },
      "cell_type": "code",
      "source": [
        "def is_negative(number):\n",
        "    if number < 0:\n",
        "        return True\n",
        "    else:\n",
        "        return False\n",
        "\n",
        "def concise_is_negative(number):\n",
        "    return number < 0 # Your code goes here (try to keep it to one line!)\n",
        "  \n",
        "print(concise_is_negative(1))\n",
        "\n"
      ],
      "execution_count": 37,
      "outputs": [
        {
          "output_type": "stream",
          "text": [
            "False\n"
          ],
          "name": "stdout"
        }
      ]
    },
    {
      "metadata": {
        "id": "qlhhptUpB02n",
        "colab_type": "text"
      },
      "cell_type": "markdown",
      "source": [
        "## 5.\n",
        "\n",
        "The boolean variables `ketchup`, `mustard` and `onion` represent whether a customer wants a particular topping on their hot dog. We want to implement a number of boolean functions that correspond to some yes-or-no questions about the customer's order. For example:"
      ]
    },
    {
      "metadata": {
        "id": "kVTqNu0CB02o",
        "colab_type": "code",
        "colab": {}
      },
      "cell_type": "code",
      "source": [
        "def onionless(ketchup, mustard, onion):\n",
        "    \"\"\"Return whether the customer doesn't want onions.\n",
        "    \"\"\"\n",
        "    return not onion"
      ],
      "execution_count": 0,
      "outputs": []
    },
    {
      "metadata": {
        "id": "64aoSg35B02r",
        "colab_type": "text"
      },
      "cell_type": "markdown",
      "source": [
        "For each of the remaining functions, fill in the body to match the English description in the docstring. "
      ]
    },
    {
      "metadata": {
        "id": "vwCE_NS7B02r",
        "colab_type": "code",
        "colab": {}
      },
      "cell_type": "code",
      "source": [
        "def wants_all_toppings(ketchup, mustard, onion):\n",
        "    \"\"\"Return whether the customer wants \"the works\" (all 3 toppings)\n",
        "    \"\"\"\n",
        "    return (ketchup == True and mustard == True and onion == True)\n"
      ],
      "execution_count": 0,
      "outputs": []
    },
    {
      "metadata": {
        "id": "xT3cmVcLB02y",
        "colab_type": "code",
        "colab": {}
      },
      "cell_type": "code",
      "source": [
        "def wants_plain_hotdog(ketchup, mustard, onion):\n",
        "    \"\"\"Return whether the customer wants a plain hot dog with no toppings.\n",
        "    \"\"\"\n",
        "    return (ketchup == False and mustard == False and onion == False)"
      ],
      "execution_count": 0,
      "outputs": []
    },
    {
      "metadata": {
        "id": "GG15UN7UB026",
        "colab_type": "code",
        "colab": {}
      },
      "cell_type": "code",
      "source": [
        "def exactly_one_sauce(ketchup, mustard, onion):\n",
        "    \"\"\"Return whether the customer wants either ketchup or mustard, but not both.\n",
        "    (You may be familiar with this operation under the name \"exclusive or\")\n",
        "    \"\"\"\n",
        "    return (ketchup == True and mustard == False) or (ketchup == False and mustard == True)\n"
      ],
      "execution_count": 0,
      "outputs": []
    },
    {
      "metadata": {
        "id": "t3GLWoKXjXh0",
        "colab_type": "code",
        "colab": {
          "base_uri": "https://localhost:8080/",
          "height": 126
        },
        "outputId": "1aab7baf-b801-4480-8e7f-ce6e0425e9b6"
      },
      "cell_type": "code",
      "source": [
        "print(\"All topping? \", wants_all_toppings(1,1,1)) \n",
        "\n",
        "print(\"Plain? \", wants_plain_hotdog(1,0,0))\n",
        "\n",
        "\n",
        "print(\"One Sauce? \", exactly_one_sauce(1,0,1)) \n",
        "print(\"One Sauce? \", exactly_one_sauce(0,1,1))\n",
        "print(\"One Sauce? \", exactly_one_sauce(1,1,1))\n",
        "print(\"One Sauce? \", exactly_one_sauce(0,0,1))\n"
      ],
      "execution_count": 40,
      "outputs": [
        {
          "output_type": "stream",
          "text": [
            "All topping?  1\n",
            "Plain?  False\n",
            "One Sauce?  True\n",
            "One Sauce?  True\n",
            "One Sauce?  False\n",
            "One Sauce?  False\n"
          ],
          "name": "stdout"
        }
      ]
    }
  ]
}